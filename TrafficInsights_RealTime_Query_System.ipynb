{
  "nbformat": 4,
  "nbformat_minor": 0,
  "metadata": {
    "colab": {
      "provenance": [],
      "include_colab_link": true
    },
    "kernelspec": {
      "name": "python3",
      "display_name": "Python 3"
    },
    "language_info": {
      "name": "python"
    }
  },
  "cells": [
    {
      "cell_type": "markdown",
      "metadata": {
        "id": "view-in-github",
        "colab_type": "text"
      },
      "source": [
        "<a href=\"https://colab.research.google.com/github/KKSurendran06/TrafficInsights-RealTime-Query-System/blob/main/TrafficInsights_RealTime_Query_System.ipynb\" target=\"_parent\"><img src=\"https://colab.research.google.com/assets/colab-badge.svg\" alt=\"Open In Colab\"/></a>"
      ]
    },
    {
      "cell_type": "markdown",
      "source": [
        "# 1. Install Required Libraries"
      ],
      "metadata": {
        "id": "wZv0K_UMNmx0"
      }
    },
    {
      "cell_type": "code",
      "execution_count": null,
      "metadata": {
        "id": "YBMt7QwVDJSO"
      },
      "outputs": [],
      "source": [
        "!pip install pandas sqlalchemy openai python-dotenv"
      ]
    },
    {
      "cell_type": "markdown",
      "source": [
        "# 2. Import Libraries"
      ],
      "metadata": {
        "id": "qMqh1lZ2NsVO"
      }
    },
    {
      "cell_type": "code",
      "source": [
        "import pandas as pd\n",
        "from sqlalchemy import create_engine\n",
        "import openai\n",
        "import os\n",
        "from google.colab import userdata"
      ],
      "metadata": {
        "id": "IEq4Ij9QK2nc"
      },
      "execution_count": 3,
      "outputs": []
    },
    {
      "cell_type": "markdown",
      "source": [
        "# 3. Connect to SQL Database"
      ],
      "metadata": {
        "id": "PVWL-yfZzOz1"
      }
    },
    {
      "cell_type": "code",
      "source": [
        "OPEN_API_KEY =  userdata.get('OPEN_API_KEY')\n",
        "model = \"text-davinci-003\""
      ],
      "metadata": {
        "id": "o6MCun7OXdsu"
      },
      "execution_count": 6,
      "outputs": []
    },
    {
      "cell_type": "markdown",
      "source": [
        "# 4. Query Data using LangChain"
      ],
      "metadata": {
        "id": "QiTZM4JRfSgC"
      }
    },
    {
      "cell_type": "code",
      "source": [
        "engine = create_engine('sqlite:///traffic.db', echo=False)"
      ],
      "metadata": {
        "id": "CDAqPplHzLOO"
      },
      "execution_count": 7,
      "outputs": []
    },
    {
      "cell_type": "code",
      "source": [
        "def generate_query(prompt):\n",
        "    response = openai.Completion.create(\n",
        "        engine=\"text-davinci-003\",\n",
        "        prompt=prompt,\n",
        "        max_tokens=100,\n",
        "        temperature=0.7,\n",
        "        n=1,\n",
        "        stop=None\n",
        "    )\n",
        "    return response.choices[0].text.strip()"
      ],
      "metadata": {
        "id": "XcS9CBnJ0fGo"
      },
      "execution_count": null,
      "outputs": []
    },
    {
      "cell_type": "code",
      "source": [
        "prompt = \"Generate a SQL query to retrieve traffic data of a specific date.\"\n",
        "query = generate_query(prompt)\n",
        "query_result = pd.read_sql_query(query, engine)"
      ],
      "metadata": {
        "id": "fULG_wdo0gXy"
      },
      "execution_count": null,
      "outputs": []
    },
    {
      "cell_type": "markdown",
      "source": [
        "# 5. DSA Function"
      ],
      "metadata": {
        "id": "EwJV2ypY1lNL"
      }
    },
    {
      "cell_type": "code",
      "source": [
        "def dsa_function(data):\n",
        "  pass"
      ],
      "metadata": {
        "id": "R_we4fIy1g4i"
      },
      "execution_count": 8,
      "outputs": []
    },
    {
      "cell_type": "markdown",
      "source": [
        "#6. Final processed data"
      ],
      "metadata": {
        "id": "B3Mn4qiC2CN0"
      }
    },
    {
      "cell_type": "code",
      "source": [
        "processed_data = dsa_function(query_result)\n",
        "print(\"Processed Data:\", processed_data)"
      ],
      "metadata": {
        "id": "ULRKlwn516Xc"
      },
      "execution_count": null,
      "outputs": []
    },
    {
      "cell_type": "markdown",
      "source": [],
      "metadata": {
        "id": "crXlGLLHS5yY"
      }
    }
  ]
}